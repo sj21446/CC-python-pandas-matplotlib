{
  "nbformat": 4,
  "nbformat_minor": 0,
  "metadata": {
    "colab": {
      "name": "pandas_tutorial.ipynb",
      "provenance": [],
      "authorship_tag": "ABX9TyOWLIcriCdh/DfokHRU5qWR",
      "include_colab_link": true
    },
    "kernelspec": {
      "name": "python3",
      "display_name": "Python 3"
    }
  },
  "cells": [
    {
      "cell_type": "markdown",
      "metadata": {
        "id": "view-in-github",
        "colab_type": "text"
      },
      "source": [
        "<a href=\"https://colab.research.google.com/github/sj21446/CC-python-pandas-matplotlib/blob/master/pandas_tutorial.ipynb\" target=\"_parent\"><img src=\"https://colab.research.google.com/assets/colab-badge.svg\" alt=\"Open In Colab\"/></a>"
      ]
    },
    {
      "cell_type": "code",
      "metadata": {
        "id": "U5PC130k80bi",
        "colab_type": "code",
        "colab": {
          "base_uri": "https://localhost:8080/",
          "height": 34
        },
        "outputId": "6419104b-b495-42a5-d876-c172e368612e"
      },
      "source": [
        "a = 4+5\n",
        "print(a)"
      ],
      "execution_count": 5,
      "outputs": [
        {
          "output_type": "stream",
          "text": [
            "9\n"
          ],
          "name": "stdout"
        }
      ]
    },
    {
      "cell_type": "markdown",
      "metadata": {
        "id": "wlXNRbuqB9mM",
        "colab_type": "text"
      },
      "source": [
        ""
      ]
    },
    {
      "cell_type": "code",
      "metadata": {
        "id": "wgO2wz-XCAT1",
        "colab_type": "code",
        "colab": {
          "base_uri": "https://localhost:8080/",
          "height": 34
        },
        "outputId": "cdd343b9-2b26-4772-9a3e-bbd2e53517bf"
      },
      "source": [
        "print(4+5)"
      ],
      "execution_count": 4,
      "outputs": [
        {
          "output_type": "stream",
          "text": [
            "9\n"
          ],
          "name": "stdout"
        }
      ]
    },
    {
      "cell_type": "markdown",
      "metadata": {
        "id": "GljFYRYGGvL1",
        "colab_type": "text"
      },
      "source": [
        "Python types\n"
      ]
    },
    {
      "cell_type": "code",
      "metadata": {
        "id": "V40XANAZGztU",
        "colab_type": "code",
        "colab": {
          "base_uri": "https://localhost:8080/",
          "height": 102
        },
        "outputId": "f26a05e5-7331-4afa-f639-a33539d54fc3"
      },
      "source": [
        "x = \"humanitarian response location\"\n",
        "print(type(x))\n",
        "y = 82\n",
        "print(type(y))\n",
        "z = True\n",
        "print(type(z))\n",
        "v = 1.1\n",
        "print(type(v))\n",
        "print(\"ab\"+\"cd\")"
      ],
      "execution_count": 18,
      "outputs": [
        {
          "output_type": "stream",
          "text": [
            "<class 'str'>\n",
            "<class 'int'>\n",
            "<class 'bool'>\n",
            "<class 'float'>\n",
            "abcd\n"
          ],
          "name": "stdout"
        }
      ]
    },
    {
      "cell_type": "markdown",
      "metadata": {
        "id": "Z4IscsQhSXmF",
        "colab_type": "text"
      },
      "source": [
        "Load pandas\n"
      ]
    },
    {
      "cell_type": "code",
      "metadata": {
        "id": "uvUz49UPQCVV",
        "colab_type": "code",
        "colab": {
          "base_uri": "https://localhost:8080/",
          "height": 102
        },
        "outputId": "2239d88a-f326-411e-ece3-2c1ab33f6b48"
      },
      "source": [
        "\n",
        "!pip install pandas\n",
        "import pandas as pd"
      ],
      "execution_count": 21,
      "outputs": [
        {
          "output_type": "stream",
          "text": [
            "Requirement already satisfied: pandas in /usr/local/lib/python3.6/dist-packages (1.0.4)\n",
            "Requirement already satisfied: pytz>=2017.2 in /usr/local/lib/python3.6/dist-packages (from pandas) (2018.9)\n",
            "Requirement already satisfied: python-dateutil>=2.6.1 in /usr/local/lib/python3.6/dist-packages (from pandas) (2.8.1)\n",
            "Requirement already satisfied: numpy>=1.13.3 in /usr/local/lib/python3.6/dist-packages (from pandas) (1.18.4)\n",
            "Requirement already satisfied: six>=1.5 in /usr/local/lib/python3.6/dist-packages (from python-dateutil>=2.6.1->pandas) (1.12.0)\n"
          ],
          "name": "stdout"
        }
      ]
    },
    {
      "cell_type": "code",
      "metadata": {
        "id": "ReEKQDwEQtnH",
        "colab_type": "code",
        "colab": {}
      },
      "source": [
        ""
      ],
      "execution_count": 0,
      "outputs": []
    },
    {
      "cell_type": "markdown",
      "metadata": {
        "id": "vMHj5c9BQuIy",
        "colab_type": "text"
      },
      "source": [
        "Using pandas dataframes"
      ]
    },
    {
      "cell_type": "code",
      "metadata": {
        "id": "N_jZxZccQw3t",
        "colab_type": "code",
        "colab": {
          "base_uri": "https://localhost:8080/",
          "height": 173
        },
        "outputId": "a4c6646c-ce8d-4081-c5ba-38068d637c70"
      },
      "source": [
        "data = {\n",
        "    \"apples\": [3, 2, 1, 0],\n",
        "    \"oranges\": [0, 3, 7, 2]\n",
        "}\n",
        "purchases = pd.DataFrame(data, index=[\"June\", \"Robert\", \"Lily\", \"David\"])\n",
        "purchases"
      ],
      "execution_count": 23,
      "outputs": [
        {
          "output_type": "execute_result",
          "data": {
            "text/html": [
              "<div>\n",
              "<style scoped>\n",
              "    .dataframe tbody tr th:only-of-type {\n",
              "        vertical-align: middle;\n",
              "    }\n",
              "\n",
              "    .dataframe tbody tr th {\n",
              "        vertical-align: top;\n",
              "    }\n",
              "\n",
              "    .dataframe thead th {\n",
              "        text-align: right;\n",
              "    }\n",
              "</style>\n",
              "<table border=\"1\" class=\"dataframe\">\n",
              "  <thead>\n",
              "    <tr style=\"text-align: right;\">\n",
              "      <th></th>\n",
              "      <th>apples</th>\n",
              "      <th>oranges</th>\n",
              "    </tr>\n",
              "  </thead>\n",
              "  <tbody>\n",
              "    <tr>\n",
              "      <th>June</th>\n",
              "      <td>3</td>\n",
              "      <td>0</td>\n",
              "    </tr>\n",
              "    <tr>\n",
              "      <th>Robert</th>\n",
              "      <td>2</td>\n",
              "      <td>3</td>\n",
              "    </tr>\n",
              "    <tr>\n",
              "      <th>Lily</th>\n",
              "      <td>1</td>\n",
              "      <td>7</td>\n",
              "    </tr>\n",
              "    <tr>\n",
              "      <th>David</th>\n",
              "      <td>0</td>\n",
              "      <td>2</td>\n",
              "    </tr>\n",
              "  </tbody>\n",
              "</table>\n",
              "</div>"
            ],
            "text/plain": [
              "        apples  oranges\n",
              "June         3        0\n",
              "Robert       2        3\n",
              "Lily         1        7\n",
              "David        0        2"
            ]
          },
          "metadata": {
            "tags": []
          },
          "execution_count": 23
        }
      ]
    },
    {
      "cell_type": "markdown",
      "metadata": {
        "id": "82B1hLa_SyIO",
        "colab_type": "text"
      },
      "source": [
        "Locate a piece of data in the table\n"
      ]
    },
    {
      "cell_type": "code",
      "metadata": {
        "id": "KYMvXpWGSmwp",
        "colab_type": "code",
        "colab": {
          "base_uri": "https://localhost:8080/",
          "height": 68
        },
        "outputId": "c9fd3d20-1816-4c87-af40-db57cca353c0"
      },
      "source": [
        "purchases.loc[\"June\"]"
      ],
      "execution_count": 24,
      "outputs": [
        {
          "output_type": "execute_result",
          "data": {
            "text/plain": [
              "apples     3\n",
              "oranges    0\n",
              "Name: June, dtype: int64"
            ]
          },
          "metadata": {
            "tags": []
          },
          "execution_count": 24
        }
      ]
    },
    {
      "cell_type": "markdown",
      "metadata": {
        "id": "RxIY1G8PTp9p",
        "colab_type": "text"
      },
      "source": [
        "Loading data from a CSV file\n"
      ]
    },
    {
      "cell_type": "code",
      "metadata": {
        "id": "4F-FzwxWTt6P",
        "colab_type": "code",
        "colab": {}
      },
      "source": [
        "df = pd.read_csv('purchases.csv')\n",
        "\n",
        "df"
      ],
      "execution_count": 0,
      "outputs": []
    },
    {
      "cell_type": "markdown",
      "metadata": {
        "id": "RQEfGYuZT1F9",
        "colab_type": "text"
      },
      "source": [
        ""
      ]
    },
    {
      "cell_type": "markdown",
      "metadata": {
        "id": "U0gtlWdXT1kN",
        "colab_type": "text"
      },
      "source": [
        "To designate the index column in the csv, write:"
      ]
    },
    {
      "cell_type": "code",
      "metadata": {
        "id": "WilX3_87UH39",
        "colab_type": "code",
        "colab": {}
      },
      "source": [
        "df = pd.read_csv('purchases.csv', index_col=0)\n",
        "\n",
        "df"
      ],
      "execution_count": 0,
      "outputs": []
    },
    {
      "cell_type": "markdown",
      "metadata": {
        "id": "d2puIucdUNvf",
        "colab_type": "text"
      },
      "source": [
        "To load data from a JSON file:"
      ]
    },
    {
      "cell_type": "code",
      "metadata": {
        "id": "MzkgItyPURo_",
        "colab_type": "code",
        "colab": {}
      },
      "source": [
        "df = pd.read_json('purchases.json')\n",
        "\n",
        "df"
      ],
      "execution_count": 0,
      "outputs": []
    },
    {
      "cell_type": "markdown",
      "metadata": {
        "id": "Xjic1zVjUzZ7",
        "colab_type": "text"
      },
      "source": [
        "Converting back to CSV or JSON after cleaning and analysing"
      ]
    },
    {
      "cell_type": "code",
      "metadata": {
        "id": "xTViPb4SU6bC",
        "colab_type": "code",
        "colab": {}
      },
      "source": [
        "df.to_csv('new_purchases.csv')\n",
        "\n",
        "df.to_json('new_purchases.json')\n",
        "\n",
        "df.to_sql('new_purchases', con)"
      ],
      "execution_count": 0,
      "outputs": []
    },
    {
      "cell_type": "markdown",
      "metadata": {
        "id": "zMSJcyNrHZsw",
        "colab_type": "text"
      },
      "source": [
        "to find out which version of pandas is running"
      ]
    },
    {
      "cell_type": "code",
      "metadata": {
        "id": "svrIpiIMHdK6",
        "colab_type": "code",
        "colab": {
          "base_uri": "https://localhost:8080/",
          "height": 34
        },
        "outputId": "1fc76a86-fdb2-4f66-cbb7-7f731a15744f"
      },
      "source": [
        "import pandas as pd\n",
        "\n",
        "print(pd.__version__)"
      ],
      "execution_count": 1,
      "outputs": [
        {
          "output_type": "stream",
          "text": [
            "1.0.4\n"
          ],
          "name": "stdout"
        }
      ]
    },
    {
      "cell_type": "markdown",
      "metadata": {
        "id": "k1mRoL4BKaK_",
        "colab_type": "text"
      },
      "source": [
        "Basic pandas series"
      ]
    },
    {
      "cell_type": "code",
      "metadata": {
        "id": "dJ3fuprqKcIh",
        "colab_type": "code",
        "colab": {
          "base_uri": "https://localhost:8080/",
          "height": 119
        },
        "outputId": "b1de74a4-f8fa-4e47-f0e1-8e48c4af280d"
      },
      "source": [
        "import pandas as pd\n",
        "\n",
        "my_series = pd.Series([4.6, 2.1, -4.0, 3.0])\n",
        "print(my_series)\n",
        "print(my_series.values)"
      ],
      "execution_count": 3,
      "outputs": [
        {
          "output_type": "stream",
          "text": [
            "0    4.6\n",
            "1    2.1\n",
            "2   -4.0\n",
            "3    3.0\n",
            "dtype: float64\n",
            "[ 4.6  2.1 -4.   3. ]\n"
          ],
          "name": "stdout"
        }
      ]
    },
    {
      "cell_type": "markdown",
      "metadata": {
        "id": "aAB8wKcxLK53",
        "colab_type": "text"
      },
      "source": [
        ""
      ]
    },
    {
      "cell_type": "markdown",
      "metadata": {
        "id": "M6voV1LiLLMc",
        "colab_type": "text"
      },
      "source": [
        "Creating a dictionary in Python - key: value pairs are seperated by commas. To call a value, type in the dictionary name, followed by the key in square brackets\n"
      ]
    },
    {
      "cell_type": "code",
      "metadata": {
        "id": "M8xG2tiFLNhQ",
        "colab_type": "code",
        "colab": {
          "base_uri": "https://localhost:8080/",
          "height": 34
        },
        "outputId": "b1118303-3355-4e39-b6cb-b3c5a87c7424"
      },
      "source": [
        "hungarian_dictionary = {'spaceship': 'űrhajó',\n",
        "                        'watermelon': 'görögdinnye',\n",
        "                        'bicycle': 'kerékpár'}\n",
        "\n",
        "hungarian_dictionary['watermelon']\n",
        "                       "
      ],
      "execution_count": 6,
      "outputs": [
        {
          "output_type": "execute_result",
          "data": {
            "text/plain": [
              "'görögdinnye'"
            ]
          },
          "metadata": {
            "tags": []
          },
          "execution_count": 6
        }
      ]
    },
    {
      "cell_type": "code",
      "metadata": {
        "id": "FwYb4HO9L_Wl",
        "colab_type": "code",
        "colab": {
          "base_uri": "https://localhost:8080/",
          "height": 34
        },
        "outputId": "08c6007f-ac6f-466a-a5ef-beb158356f7c"
      },
      "source": [
        "# Names (keys) mapped to a tuple (the value) containing the height, lat and longitude.\n",
        "scottish_hills = {'Ben Nevis': (1345, 56.79685, -5.003508),\n",
        "                  'Ben Macdui': (1309, 57.070453, -3.668262),\n",
        "                  'Braeriach': (1296, 57.078628, -3.728024),\n",
        "                  'Cairn Toul': (1291, 57.054611, -3.71042),\n",
        "                  'Sgòr an Lochain Uaine': (1258, 57.057999, -3.725416)}\n",
        "scottish_hills['Ben Nevis']                 "
      ],
      "execution_count": 7,
      "outputs": [
        {
          "output_type": "execute_result",
          "data": {
            "text/plain": [
              "(1345, 56.79685, -5.003508)"
            ]
          },
          "metadata": {
            "tags": []
          },
          "execution_count": 7
        }
      ]
    },
    {
      "cell_type": "markdown",
      "metadata": {
        "id": "JQjxlkZ9MPKY",
        "colab_type": "text"
      },
      "source": [
        "Loading this dictionary into a data frame - uses the key (1st part of the pair) as the column heading, and the values in the rows"
      ]
    },
    {
      "cell_type": "code",
      "metadata": {
        "id": "kmjsVzSfMSD_",
        "colab_type": "code",
        "colab": {
          "base_uri": "https://localhost:8080/",
          "height": 85
        },
        "outputId": "eeb3cce2-e3b3-4b8c-e0fe-ee0469970774"
      },
      "source": [
        "dataframe = pd.DataFrame(scottish_hills)\n",
        "print(dataframe)"
      ],
      "execution_count": 8,
      "outputs": [
        {
          "output_type": "stream",
          "text": [
            "     Ben Nevis   Ben Macdui    Braeriach   Cairn Toul  Sgòr an Lochain Uaine\n",
            "0  1345.000000  1309.000000  1296.000000  1291.000000            1258.000000\n",
            "1    56.796850    57.070453    57.078628    57.054611              57.057999\n",
            "2    -5.003508    -3.668262    -3.728024    -3.710420              -3.725416\n"
          ],
          "name": "stdout"
        }
      ]
    },
    {
      "cell_type": "markdown",
      "metadata": {
        "id": "biw7dnnUNJi_",
        "colab_type": "text"
      },
      "source": [
        "So it's better to include the actual column headings you want to use as the keys for the values, like this:\n"
      ]
    },
    {
      "cell_type": "code",
      "metadata": {
        "id": "d0GYdxJbNSGz",
        "colab_type": "code",
        "colab": {}
      },
      "source": [
        "scottish_hills2 = {'Hill Name': ['Ben Nevis', 'Ben Macdui', 'Braeriach', 'Cairn Toul', 'Sgòr an Lochain Uaine'],\n",
        "                  'Height': [1345, 1309, 1296, 1291, 1258],\n",
        "                  'Latitude': [56.79685, 57.070453, 57.078628, 57.054611, 57.057999],\n",
        "                  'Longitude': [-5.003508, -3.668262, -3.728024, -3.71042, -3.725416]}"
      ],
      "execution_count": 0,
      "outputs": []
    },
    {
      "cell_type": "code",
      "metadata": {
        "id": "a-ddQtzINVRN",
        "colab_type": "code",
        "colab": {
          "base_uri": "https://localhost:8080/",
          "height": 119
        },
        "outputId": "70833a96-3b14-4b77-cdda-b8a3cb7db73e"
      },
      "source": [
        "dataframe2 = pd.DataFrame(scottish_hills2)\n",
        "print(dataframe2)"
      ],
      "execution_count": 12,
      "outputs": [
        {
          "output_type": "stream",
          "text": [
            "               Hill Name  Height   Latitude  Longitude\n",
            "0              Ben Nevis    1345  56.796850  -5.003508\n",
            "1             Ben Macdui    1309  57.070453  -3.668262\n",
            "2              Braeriach    1296  57.078628  -3.728024\n",
            "3             Cairn Toul    1291  57.054611  -3.710420\n",
            "4  Sgòr an Lochain Uaine    1258  57.057999  -3.725416\n"
          ],
          "name": "stdout"
        }
      ]
    },
    {
      "cell_type": "markdown",
      "metadata": {
        "id": "VS4K26W-OLS0",
        "colab_type": "text"
      },
      "source": [
        "You can also specify the order of the columns, like this:"
      ]
    },
    {
      "cell_type": "code",
      "metadata": {
        "id": "kik-0Bv3OOqW",
        "colab_type": "code",
        "colab": {
          "base_uri": "https://localhost:8080/",
          "height": 119
        },
        "outputId": "0e042e3e-a91d-4f76-d10d-b632d7c36106"
      },
      "source": [
        "dataframe2 = pd.DataFrame(scottish_hills2, columns=['Latitude', 'Longitude', 'Height', 'Hill Name'])\n",
        "print(dataframe2)"
      ],
      "execution_count": 14,
      "outputs": [
        {
          "output_type": "stream",
          "text": [
            "    Latitude  Longitude  Height              Hill Name\n",
            "0  56.796850  -5.003508    1345              Ben Nevis\n",
            "1  57.070453  -3.668262    1309             Ben Macdui\n",
            "2  57.078628  -3.728024    1296              Braeriach\n",
            "3  57.054611  -3.710420    1291             Cairn Toul\n",
            "4  57.057999  -3.725416    1258  Sgòr an Lochain Uaine\n"
          ],
          "name": "stdout"
        }
      ]
    },
    {
      "cell_type": "markdown",
      "metadata": {
        "id": "TfSEwSoKO8hH",
        "colab_type": "text"
      },
      "source": [
        "Data in each column is indexed as a SERIES, and can be called out independently"
      ]
    },
    {
      "cell_type": "code",
      "metadata": {
        "id": "EbCixMvlPDJg",
        "colab_type": "code",
        "colab": {
          "base_uri": "https://localhost:8080/",
          "height": 119
        },
        "outputId": "34f440e5-9fa7-45f7-c9d5-3e1b3764246c"
      },
      "source": [
        "print(dataframe2['Hill Name'])"
      ],
      "execution_count": 15,
      "outputs": [
        {
          "output_type": "stream",
          "text": [
            "0                Ben Nevis\n",
            "1               Ben Macdui\n",
            "2                Braeriach\n",
            "3               Cairn Toul\n",
            "4    Sgòr an Lochain Uaine\n",
            "Name: Hill Name, dtype: object\n"
          ],
          "name": "stdout"
        }
      ]
    },
    {
      "cell_type": "markdown",
      "metadata": {
        "id": "bnHlZtDEPUtx",
        "colab_type": "text"
      },
      "source": [
        "You can also just call out the top or bottom X number of rows ... head = top, and tail = bottom:"
      ]
    },
    {
      "cell_type": "code",
      "metadata": {
        "id": "CLZAlKVSPc7N",
        "colab_type": "code",
        "colab": {
          "base_uri": "https://localhost:8080/",
          "height": 119
        },
        "outputId": "31d19edb-981e-4829-91e1-343c56067a74"
      },
      "source": [
        "# this prints out the top 2 rows\n",
        "print(dataframe2.head(2))\n",
        "\n",
        "#this prints out the bottom 2 rows\n",
        "print(dataframe2.tail(2))"
      ],
      "execution_count": 16,
      "outputs": [
        {
          "output_type": "stream",
          "text": [
            "    Latitude  Longitude  Height   Hill Name\n",
            "0  56.796850  -5.003508    1345   Ben Nevis\n",
            "1  57.070453  -3.668262    1309  Ben Macdui\n",
            "    Latitude  Longitude  Height              Hill Name\n",
            "3  57.054611  -3.710420    1291             Cairn Toul\n",
            "4  57.057999  -3.725416    1258  Sgòr an Lochain Uaine\n"
          ],
          "name": "stdout"
        }
      ]
    },
    {
      "cell_type": "markdown",
      "metadata": {
        "id": "lq2ymrpWP-9Z",
        "colab_type": "text"
      },
      "source": [
        "to call out a row at a particular index number, use this:\n"
      ]
    },
    {
      "cell_type": "code",
      "metadata": {
        "id": "bWvZit0zQDnw",
        "colab_type": "code",
        "colab": {
          "base_uri": "https://localhost:8080/",
          "height": 102
        },
        "outputId": "8263822f-9d9f-405e-f09b-df5028311e93"
      },
      "source": [
        "#this prints out the row at integer location (iloc) 1 - Ben Macdui\n",
        "print(dataframe2.iloc[1])"
      ],
      "execution_count": 19,
      "outputs": [
        {
          "output_type": "stream",
          "text": [
            "Latitude        57.0705\n",
            "Longitude      -3.66826\n",
            "Height             1309\n",
            "Hill Name    Ben Macdui\n",
            "Name: 1, dtype: object\n"
          ],
          "name": "stdout"
        }
      ]
    },
    {
      "cell_type": "markdown",
      "metadata": {
        "id": "1oNUU0ZdQkdV",
        "colab_type": "text"
      },
      "source": [
        "If we want a particular data point that's found at a particular location in the table, we can give row AND column coordinates - Ben Macdui's height is at row 1, column 2:"
      ]
    },
    {
      "cell_type": "code",
      "metadata": {
        "id": "G1InHXAyQ751",
        "colab_type": "code",
        "colab": {
          "base_uri": "https://localhost:8080/",
          "height": 34
        },
        "outputId": "f979ba72-53b2-4ada-b308-e7974fb440aa"
      },
      "source": [
        "print(dataframe2.iloc[1,2])"
      ],
      "execution_count": 20,
      "outputs": [
        {
          "output_type": "stream",
          "text": [
            "1309\n"
          ],
          "name": "stdout"
        }
      ]
    },
    {
      "cell_type": "markdown",
      "metadata": {
        "id": "D5AqXSfYRkqr",
        "colab_type": "text"
      },
      "source": [
        "You can also do it this way in pandas by calling the name of the series, and then the index (row) number"
      ]
    },
    {
      "cell_type": "code",
      "metadata": {
        "id": "mPeHfGqGRyE2",
        "colab_type": "code",
        "colab": {
          "base_uri": "https://localhost:8080/",
          "height": 34
        },
        "outputId": "a574edcc-5967-4cba-a8d2-ea4adf8a8ab3"
      },
      "source": [
        "# get me the hill name series, and get me the zero-th name (ie. at index position 0) in that series\n",
        "print(dataframe2['Hill Name'][0])\n"
      ],
      "execution_count": 22,
      "outputs": [
        {
          "output_type": "stream",
          "text": [
            "Ben Nevis\n"
          ],
          "name": "stdout"
        }
      ]
    },
    {
      "cell_type": "markdown",
      "metadata": {
        "id": "WcsKBlFBUk5T",
        "colab_type": "text"
      },
      "source": [
        "And you can also call a whole series (column) by using the column name as an attribute, like this:\n"
      ]
    },
    {
      "cell_type": "code",
      "metadata": {
        "id": "6bXK7xzDUp89",
        "colab_type": "code",
        "colab": {
          "base_uri": "https://localhost:8080/",
          "height": 119
        },
        "outputId": "b72d536d-f429-4ce3-ce07-8f11b816a450"
      },
      "source": [
        "dataframe2.Height"
      ],
      "execution_count": 24,
      "outputs": [
        {
          "output_type": "execute_result",
          "data": {
            "text/plain": [
              "0    1345\n",
              "1    1309\n",
              "2    1296\n",
              "3    1291\n",
              "4    1258\n",
              "Name: Height, dtype: int64"
            ]
          },
          "metadata": {
            "tags": []
          },
          "execution_count": 24
        }
      ]
    },
    {
      "cell_type": "markdown",
      "metadata": {
        "id": "K5Hp5cYBVcFZ",
        "colab_type": "text"
      },
      "source": [
        "And you can filter the whole dictionary, so you only get the values you want, like this:"
      ]
    },
    {
      "cell_type": "code",
      "metadata": {
        "id": "ZfTxZsFGVhcL",
        "colab_type": "code",
        "colab": {
          "base_uri": "https://localhost:8080/",
          "height": 111
        },
        "outputId": "c82f2f1b-7edb-48b3-d7aa-90c054433c19"
      },
      "source": [
        "# this returns only the mountains in the series that are bigger than 1300\n",
        "dataframe2[dataframe2.Height > 1300]"
      ],
      "execution_count": 25,
      "outputs": [
        {
          "output_type": "execute_result",
          "data": {
            "text/html": [
              "<div>\n",
              "<style scoped>\n",
              "    .dataframe tbody tr th:only-of-type {\n",
              "        vertical-align: middle;\n",
              "    }\n",
              "\n",
              "    .dataframe tbody tr th {\n",
              "        vertical-align: top;\n",
              "    }\n",
              "\n",
              "    .dataframe thead th {\n",
              "        text-align: right;\n",
              "    }\n",
              "</style>\n",
              "<table border=\"1\" class=\"dataframe\">\n",
              "  <thead>\n",
              "    <tr style=\"text-align: right;\">\n",
              "      <th></th>\n",
              "      <th>Latitude</th>\n",
              "      <th>Longitude</th>\n",
              "      <th>Height</th>\n",
              "      <th>Hill Name</th>\n",
              "    </tr>\n",
              "  </thead>\n",
              "  <tbody>\n",
              "    <tr>\n",
              "      <th>0</th>\n",
              "      <td>56.796850</td>\n",
              "      <td>-5.003508</td>\n",
              "      <td>1345</td>\n",
              "      <td>Ben Nevis</td>\n",
              "    </tr>\n",
              "    <tr>\n",
              "      <th>1</th>\n",
              "      <td>57.070453</td>\n",
              "      <td>-3.668262</td>\n",
              "      <td>1309</td>\n",
              "      <td>Ben Macdui</td>\n",
              "    </tr>\n",
              "  </tbody>\n",
              "</table>\n",
              "</div>"
            ],
            "text/plain": [
              "    Latitude  Longitude  Height   Hill Name\n",
              "0  56.796850  -5.003508    1345   Ben Nevis\n",
              "1  57.070453  -3.668262    1309  Ben Macdui"
            ]
          },
          "metadata": {
            "tags": []
          },
          "execution_count": 25
        }
      ]
    },
    {
      "cell_type": "markdown",
      "metadata": {
        "id": "KM-wJsPNWPoR",
        "colab_type": "text"
      },
      "source": [
        "We can also add new data to the dictionary, like this:"
      ]
    },
    {
      "cell_type": "code",
      "metadata": {
        "id": "07JOKsusWTTD",
        "colab_type": "code",
        "colab": {
          "base_uri": "https://localhost:8080/",
          "height": 119
        },
        "outputId": "c8684e3c-3272-4f4e-d6db-9051f04b40a9"
      },
      "source": [
        "#this adds a new series (column) to the dictionary, called Region\n",
        "dataframe2['Region'] = ['Grampian', 'Cairngorm', 'Caingorm', 'Cairngorm', 'Cairngorm']\n",
        "print(dataframe2)"
      ],
      "execution_count": 32,
      "outputs": [
        {
          "output_type": "stream",
          "text": [
            "    Latitude  Longitude  Height              Hill Name     Region\n",
            "0  56.796850  -5.003508    1345              Ben Nevis   Grampian\n",
            "1  57.070453  -3.668262    1309             Ben Macdui  Cairngorm\n",
            "2  57.078628  -3.728024    1296              Braeriach   Caingorm\n",
            "3  57.054611  -3.710420    1291             Cairn Toul  Cairngorm\n",
            "4  57.057999  -3.725416    1258  Sgòr an Lochain Uaine  Cairngorm\n"
          ],
          "name": "stdout"
        }
      ]
    },
    {
      "cell_type": "markdown",
      "metadata": {
        "id": "wFVCMyH-XeML",
        "colab_type": "text"
      },
      "source": [
        ""
      ]
    }
  ]
}